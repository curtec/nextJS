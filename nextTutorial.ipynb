{
 "cells": [
  {
   "cell_type": "markdown",
   "metadata": {},
   "source": [
    "# Next.js: A Brief Overview"
   ]
  },
  {
   "cell_type": "markdown",
   "metadata": {},
   "source": [
    "## Next.js \n",
    "is a popular React-based framework for building server-side rendered (SSR) and statically generated websites and applications. It provides a simple and efficient way to build fast, scalable, and SEO-friendly web experiences.\n",
    "### Key Features:\n",
    "* Server-side Rendering (SSR): Next.js allows for server-side rendering, which enables faster page loads and improved SEO.\n",
    "* Static Site Generation (SSG): Next.js can generate static HTML files for your application, making it suitable for websites with minimal dynamic content.\n",
    "* Automatic Code Splitting: Next.js automatically splits your code into smaller chunks, reducing initial load times and improving page performance.\n",
    "* Built-in Internationalization (i18n) Support: Next.js provides built-in support for internationalization, making it easy to manage multiple languages and locales.\n",
    "* Extensive Plugin Ecosystem: Next.js has a vast array of plugins available, allowing you to extend and customize its functionality to suit your needs.\n",
    "### Why Choose Next.js?\n",
    "* Fast and Scalable: Next.js enables fast page loads and seamless scalability, making it ideal for high-traffic websites and applications.\n",
    "* SEO-Friendly: Next.js's server-side rendering and static site generation capabilities make it an excellent choice for SEO-conscious developers.\n",
    "* Easy to Learn: Next.js builds upon React, making it easy for React developers to learn and adapt to.\n",
    "\n",
    "In this tutorial, we'll dive deeper into the features and functionality of Next.js, exploring how to build fast, scalable, and SEO-friendly web experiences with this powerful framework."
   ]
  },
  {
   "cell_type": "markdown",
   "metadata": {},
   "source": [
    "* File based routing\n",
    "* API routes\n",
    "* Image optimization\n",
    "* Built-in CSS and Tailwind support\n",
    "* Built-in TypeScript support\n",
    "* React server components\n",
    "* Incremental static regeneration\n",
    "* Fast refresh\n",
    "* Automatic code splitting\n"
   ]
  },
  {
   "cell_type": "markdown",
   "metadata": {},
   "source": [
    "# Step 1: Setting Up a Next.js Project\n",
    "To get started with Next.js, you'll need to set up a new project using the Next.js CLI. First, make sure you have Node.js installed on your machine. You can install Node.js from the official website or using a package manager like npm or yarn.\n",
    "\n",
    "It is also assumed that you have a code editor like VSCode and Git installed.\n",
    "\n",
    "React Developer Tools for the browser (Chrome extension if you use Google Chrome).\n",
    "\n",
    "# VSCode extensions\n",
    "* Prettier - Code formatter\n",
    "* ES7+ React/Redux/React-Native snippets\n",
    "* JavaScript (ES6) code snippets\n",
    "* Multiple cursor case preserve\n",
    "\n"
   ]
  },
  {
   "cell_type": "markdown",
   "metadata": {},
   "source": [
    "### Setup folder/file structure"
   ]
  },
  {
   "cell_type": "markdown",
   "metadata": {},
   "source": [
    "Using the command prompt/terminal navigate to where you are going to run the project and type:\n",
    "\n",
    "nextJS>npx create=next-app@latest\n",
    "\n",
    "Ok to proceed? (y) y\n",
    "\n",
    "√ What is your project named? ... my-app\n",
    "\n",
    "√ Would you like to use TypeScript? ... No\n",
    "\n",
    "√ Would you like to use ESLint? ... No\n",
    "\n",
    "√ Would you like to use Tailwind CSS? ...Yes\n",
    "\n",
    "√ Would you like to use `src/` directory? ... No\n",
    "\n",
    "√ Would you like to use App Router? (recommended) ...Yes\n",
    "\n",
    "√ Would you like to customize the default import alias (@/*)? ... No\n",
    "\n",
    "Creating a new Next.js app in C:\\Users\\adam\\projects\\nextJS\\my-app.\n",
    "\n",
    "cd my-app\n",
    "\n",
    "my-app>npm run dev"
   ]
  },
  {
   "cell_type": "markdown",
   "metadata": {},
   "source": [
    "In the browser navigate to http://localhost:3000/"
   ]
  },
  {
   "cell_type": "markdown",
   "metadata": {},
   "source": [
    "Delete the app folder, to be recreated"
   ]
  },
  {
   "cell_type": "markdown",
   "metadata": {},
   "source": [
    "### Rebuilding the app folder\n",
    "* Create a folder called app in the root directory\n",
    "* Create a file called layout.js or layout.jsx\n",
    "* In the folder using the ES7+ React/Redux/React-Native snippets extension type:\n",
    "* rafce\n"
   ]
  }
 ],
 "metadata": {
  "kernelspec": {
   "display_name": "venv",
   "language": "python",
   "name": "python3"
  },
  "language_info": {
   "name": "python",
   "version": "3.12.4"
  }
 },
 "nbformat": 4,
 "nbformat_minor": 2
}
